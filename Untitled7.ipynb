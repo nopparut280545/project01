{
  "nbformat": 4,
  "nbformat_minor": 0,
  "metadata": {
    "colab": {
      "provenance": [],
      "authorship_tag": "ABX9TyPXY38yPvYfcKuvPIymfG88",
      "include_colab_link": true
    },
    "kernelspec": {
      "name": "python3",
      "display_name": "Python 3"
    },
    "language_info": {
      "name": "python"
    }
  },
  "cells": [
    {
      "cell_type": "markdown",
      "metadata": {
        "id": "view-in-github",
        "colab_type": "text"
      },
      "source": [
        "<a href=\"https://colab.research.google.com/github/nopparut280545/project01/blob/main/Untitled7.ipynb\" target=\"_parent\"><img src=\"https://colab.research.google.com/assets/colab-badge.svg\" alt=\"Open In Colab\"/></a>"
      ]
    },
    {
      "cell_type": "code",
      "execution_count": 1,
      "metadata": {
        "colab": {
          "base_uri": "https://localhost:8080/"
        },
        "id": "U6yVXDOZnaWb",
        "outputId": "6913f570-f60a-4fb0-ee88-21cf4a6ed7b2"
      },
      "outputs": [
        {
          "output_type": "stream",
          "name": "stdout",
          "text": [
            "กรุณาป้อนน้ำหนักของคุณ (กิโลกรัม): 68\n",
            "กรุณาป้อนส่วนสูงของคุณ (เมตร): 1.65\n",
            "ค่า BMI ของคุณคือ: 24.977043158861342\n",
            "คุณมีน้ำหนักปกติ\n"
          ]
        }
      ],
      "source": [
        "# prompt: def คำนวณ_bmi(น้ำหนัก, ส่วนสูง):\n",
        "#   \"\"\"คำนวณดัชนีมวลกาย (BMI).\n",
        "#   Args:\n",
        "#     น้ำหนัก: น้ำหนักเป็นกิโลกรัม.\n",
        "#     ส่วนสูง: ส่วนสูงเป็นเมตร.\n",
        "#   Returns:\n",
        "#     ค่า BMI.\n",
        "#   \"\"\"\n",
        "#   bmi = น้ำหนัก / (ส่วนสูง ** 2)\n",
        "#   return bmi\n",
        "# น้ำหนัก = float(input(\"กรุณาป้อนน้ำหนักของคุณ (กิโลกรัม): \"))\n",
        "# ส่วนสูง = float(input(\"กรุณาป้อนส่วนสูงของคุณ (เมตร): \"))\n",
        "# bmi = คำนวณ_bmi(น้ำหนัก, ส่วนสูง)\n",
        "# print(\"ค่า BMI ของคุณคือ:\", bmi)\n",
        "# # การตีความค่า BMI\n",
        "# if bmi < 18.5:\n",
        "#   print(\"คุณมีน้ำหนักน้อยกว่าเกณฑ์\")\n",
        "# elif bmi\n",
        "\n",
        "def คำนวณ_bmi(น้ำหนัก, ส่วนสูง):\n",
        "  \"\"\"คำนวณดัชนีมวลกาย (BMI).\n",
        "  Args:\n",
        "    น้ำหนัก: น้ำหนักเป็นกิโลกรัม.\n",
        "    ส่วนสูง: ส่วนสูงเป็นเมตร.\n",
        "  Returns:\n",
        "    ค่า BMI.\n",
        "  \"\"\"\n",
        "  bmi = น้ำหนัก / (ส่วนสูง ** 2)\n",
        "  return bmi\n",
        "\n",
        "น้ำหนัก = float(input(\"กรุณาป้อนน้ำหนักของคุณ (กิโลกรัม): \"))\n",
        "ส่วนสูง = float(input(\"กรุณาป้อนส่วนสูงของคุณ (เมตร): \"))\n",
        "bmi = คำนวณ_bmi(น้ำหนัก, ส่วนสูง)\n",
        "print(\"ค่า BMI ของคุณคือ:\", bmi)\n",
        "# การตีความค่า BMI\n",
        "if bmi < 18.5:\n",
        "  print(\"คุณมีน้ำหนักน้อยกว่าเกณฑ์\")\n",
        "elif 18.5 <= bmi < 25:\n",
        "  print(\"คุณมีน้ำหนักปกติ\")\n",
        "elif 25 <= bmi < 30:\n",
        "  print(\"คุณมีน้ำหนักเกิน\")\n",
        "else:\n",
        "  print(\"คุณมีโรคอ้วน\")"
      ]
    },
    {
      "cell_type": "code",
      "source": [
        "def multiplication_table(n):\n",
        "  \"\"\"สร้างแม่สูตรคูณสำหรับตัวเลขที่กำหนด.\n",
        "\n",
        "  Args:\n",
        "    n: ตัวเลขที่ต้องการสร้างแม่สูตรคูณ.\n",
        "\n",
        "  Returns:\n",
        "    แม่สูตรคูณในรูปแบบของสตริง.\n",
        "  \"\"\"\n",
        "  table = \"\"\n",
        "  for i in range(1, 13):\n",
        "    table += f\"{n} x {i} = {n * i}\\n\"\n",
        "  return table\n",
        "\n",
        "# รับตัวเลขจากผู้ใช้\n",
        "number = int(input(\"กรุณาป้อนตัวเลข: \"))\n",
        "\n",
        "# เรียกใช้ฟังก์ชัน multiplication_table เพื่อสร้างแม่สูตรคูณ\n",
        "table = multiplication_table(number)\n",
        "\n",
        "# แสดงผลลัพธ์\n",
        "print(table)\n"
      ],
      "metadata": {
        "colab": {
          "base_uri": "https://localhost:8080/"
        },
        "id": "quSdh9fIwRij",
        "outputId": "a4b6cebb-f4e1-43dd-d625-1e6232b4cb67"
      },
      "execution_count": 2,
      "outputs": [
        {
          "output_type": "stream",
          "name": "stdout",
          "text": [
            "กรุณาป้อนตัวเลข: 5\n",
            "5 x 1 = 5\n",
            "5 x 2 = 10\n",
            "5 x 3 = 15\n",
            "5 x 4 = 20\n",
            "5 x 5 = 25\n",
            "5 x 6 = 30\n",
            "5 x 7 = 35\n",
            "5 x 8 = 40\n",
            "5 x 9 = 45\n",
            "5 x 10 = 50\n",
            "5 x 11 = 55\n",
            "5 x 12 = 60\n",
            "\n"
          ]
        }
      ]
    },
    {
      "cell_type": "code",
      "source": [
        "# !pip install yfinance==0.2.4  # คอมเมนต์บรรทัดนี้หากติดตั้งแล้ว\n",
        "\n",
        "import yfinance as yf\n",
        "\n",
        "def หาราคาบิทคอย():\n",
        "  \"\"\"ดึงข้อมูลราคา Bitcoin ล่าสุด.\n",
        "\n",
        "  Returns:\n",
        "    ราคาปิดล่าสุดของ Bitcoin ใน USD.\n",
        "  \"\"\"\n",
        "  btc_data = yf.download(\"BTC-USD\", period=\"1d\")\n",
        "  return btc_data[\"Close\"][-1]\n",
        "\n",
        "# เรียกใช้ฟังก์ชันและแสดงผลลัพธ์\n",
        "ราคา_btc = หาราคาบิทคอย()\n",
        "print(f\"ราคา Bitcoin ปัจจุบัน: {ราคา_btc:.2f} USD\")"
      ],
      "metadata": {
        "colab": {
          "base_uri": "https://localhost:8080/"
        },
        "id": "ztpmY-iZzWd6",
        "outputId": "aaa67571-1dfe-4301-d24a-6489a60d123c"
      },
      "execution_count": 9,
      "outputs": [
        {
          "output_type": "stream",
          "name": "stdout",
          "text": [
            "\r[*********************100%***********************]  1 of 1 completed\n",
            "ราคา Bitcoin ปัจจุบัน: 93471.77 USD\n"
          ]
        },
        {
          "output_type": "stream",
          "name": "stderr",
          "text": [
            "/usr/local/lib/python3.10/dist-packages/yfinance/utils.py:631: FutureWarning: The 'unit' keyword in TimedeltaIndex construction is deprecated and will be removed in a future version. Use pd.to_timedelta instead.\n",
            "  df.index += _pd.TimedeltaIndex(dst_error_hours, 'h')\n",
            "<ipython-input-9-af42bb935a76>:12: FutureWarning: Series.__getitem__ treating keys as positions is deprecated. In a future version, integer keys will always be treated as labels (consistent with DataFrame behavior). To access a value by position, use `ser.iloc[pos]`\n",
            "  return btc_data[\"Close\"][-1]\n"
          ]
        }
      ]
    },
    {
      "cell_type": "code",
      "source": [
        "import yfinance as yf\n",
        "from IPython.display import clear_output\n",
        "import time\n",
        "import warnings\n",
        "\n",
        "# ปิดคำเตือน FutureWarning\n",
        "warnings.simplefilter(action='ignore', category=FutureWarning)\n",
        "\n",
        "def หาราคาบิทคอย():\n",
        "    \"\"\"ดึงข้อมูลราคา Bitcoin ล่าสุด.\"\"\"\n",
        "    btc_data = yf.download(\"BTC-USD\", period=\"1d\", progress=False)  # เพิ่ม progress=False\n",
        "    return btc_data[\"Close\"].iloc[-1]\n",
        "\n",
        "while True:\n",
        "    clear_output(wait=True)\n",
        "    ราคา_btc = หาราคาบิทคอย()\n",
        "    print(f\"ราคา Bitcoin ปัจจุบัน: {ราคา_btc:.2f} USD (อัปเดตเมื่อ: {time.strftime('%H:%M:%S')})\")  # แก้ไขบรรทัดนี้\n",
        "    time.sleep(300)"
      ],
      "metadata": {
        "colab": {
          "base_uri": "https://localhost:8080/"
        },
        "id": "4vql2fS-0olS",
        "outputId": "3e5b99a0-d484-4daf-b054-0f49ecb66635"
      },
      "execution_count": null,
      "outputs": [
        {
          "output_type": "stream",
          "name": "stdout",
          "text": [
            "ราคา Bitcoin ปัจจุบัน: 93444.30 USD (อัปเดตเมื่อ: 08:56:47)\n"
          ]
        }
      ]
    }
  ]
}