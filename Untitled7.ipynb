{
  "nbformat": 4,
  "nbformat_minor": 0,
  "metadata": {
    "colab": {
      "provenance": [],
      "authorship_tag": "ABX9TyNVYw2EZ6cXaz9VfN4Wrp7u",
      "include_colab_link": true
    },
    "kernelspec": {
      "name": "python3",
      "display_name": "Python 3"
    },
    "language_info": {
      "name": "python"
    }
  },
  "cells": [
    {
      "cell_type": "markdown",
      "metadata": {
        "id": "view-in-github",
        "colab_type": "text"
      },
      "source": [
        "<a href=\"https://colab.research.google.com/github/nopparut280545/project01/blob/main/Untitled7.ipynb\" target=\"_parent\"><img src=\"https://colab.research.google.com/assets/colab-badge.svg\" alt=\"Open In Colab\"/></a>"
      ]
    },
    {
      "cell_type": "code",
      "execution_count": 1,
      "metadata": {
        "colab": {
          "base_uri": "https://localhost:8080/"
        },
        "id": "U6yVXDOZnaWb",
        "outputId": "6913f570-f60a-4fb0-ee88-21cf4a6ed7b2"
      },
      "outputs": [
        {
          "output_type": "stream",
          "name": "stdout",
          "text": [
            "กรุณาป้อนน้ำหนักของคุณ (กิโลกรัม): 68\n",
            "กรุณาป้อนส่วนสูงของคุณ (เมตร): 1.65\n",
            "ค่า BMI ของคุณคือ: 24.977043158861342\n",
            "คุณมีน้ำหนักปกติ\n"
          ]
        }
      ],
      "source": [
        "# prompt: def คำนวณ_bmi(น้ำหนัก, ส่วนสูง):\n",
        "#   \"\"\"คำนวณดัชนีมวลกาย (BMI).\n",
        "#   Args:\n",
        "#     น้ำหนัก: น้ำหนักเป็นกิโลกรัม.\n",
        "#     ส่วนสูง: ส่วนสูงเป็นเมตร.\n",
        "#   Returns:\n",
        "#     ค่า BMI.\n",
        "#   \"\"\"\n",
        "#   bmi = น้ำหนัก / (ส่วนสูง ** 2)\n",
        "#   return bmi\n",
        "# น้ำหนัก = float(input(\"กรุณาป้อนน้ำหนักของคุณ (กิโลกรัม): \"))\n",
        "# ส่วนสูง = float(input(\"กรุณาป้อนส่วนสูงของคุณ (เมตร): \"))\n",
        "# bmi = คำนวณ_bmi(น้ำหนัก, ส่วนสูง)\n",
        "# print(\"ค่า BMI ของคุณคือ:\", bmi)\n",
        "# # การตีความค่า BMI\n",
        "# if bmi < 18.5:\n",
        "#   print(\"คุณมีน้ำหนักน้อยกว่าเกณฑ์\")\n",
        "# elif bmi\n",
        "\n",
        "def คำนวณ_bmi(น้ำหนัก, ส่วนสูง):\n",
        "  \"\"\"คำนวณดัชนีมวลกาย (BMI).\n",
        "  Args:\n",
        "    น้ำหนัก: น้ำหนักเป็นกิโลกรัม.\n",
        "    ส่วนสูง: ส่วนสูงเป็นเมตร.\n",
        "  Returns:\n",
        "    ค่า BMI.\n",
        "  \"\"\"\n",
        "  bmi = น้ำหนัก / (ส่วนสูง ** 2)\n",
        "  return bmi\n",
        "\n",
        "น้ำหนัก = float(input(\"กรุณาป้อนน้ำหนักของคุณ (กิโลกรัม): \"))\n",
        "ส่วนสูง = float(input(\"กรุณาป้อนส่วนสูงของคุณ (เมตร): \"))\n",
        "bmi = คำนวณ_bmi(น้ำหนัก, ส่วนสูง)\n",
        "print(\"ค่า BMI ของคุณคือ:\", bmi)\n",
        "# การตีความค่า BMI\n",
        "if bmi < 18.5:\n",
        "  print(\"คุณมีน้ำหนักน้อยกว่าเกณฑ์\")\n",
        "elif 18.5 <= bmi < 25:\n",
        "  print(\"คุณมีน้ำหนักปกติ\")\n",
        "elif 25 <= bmi < 30:\n",
        "  print(\"คุณมีน้ำหนักเกิน\")\n",
        "else:\n",
        "  print(\"คุณมีโรคอ้วน\")"
      ]
    }
  ]
}